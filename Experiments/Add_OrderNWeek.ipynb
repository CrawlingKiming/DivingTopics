{
 "cells": [
  {
   "cell_type": "code",
   "execution_count": 1,
   "metadata": {},
   "outputs": [],
   "source": [
    "#Import Libraries\n",
    "%matplotlib inline\n",
    "import numpy as np\n",
    "import pandas as pd \n",
    "import matplotlib.pyplot as plt\n",
    "import scipy.stats as stats\n",
    "from scipy.stats import norm\n",
    "import sklearn.linear_model as linear_model\n",
    "import seaborn as sns\n",
    "from sklearn.model_selection import KFold\n",
    "from IPython.display import HTML, display\n",
    "from sklearn.manifold import TSNE\n",
    "from sklearn.cluster import KMeans\n",
    "from sklearn.decomposition import PCA\n",
    "from sklearn.preprocessing import StandardScaler\n",
    "import pickle"
   ]
  },
  {
   "cell_type": "code",
   "execution_count": 5,
   "metadata": {},
   "outputs": [],
   "source": [
    "card_spend = pd.read_csv('CARD_PROCESSED.txt', sep = ',')"
   ]
  },
  {
   "cell_type": "code",
   "execution_count": 6,
   "metadata": {},
   "outputs": [],
   "source": [
    "card_spend_copy = card_spend.copy()"
   ]
  },
  {
   "cell_type": "code",
   "execution_count": 7,
   "metadata": {},
   "outputs": [
    {
     "data": {
      "text/html": [
       "<div>\n",
       "<style scoped>\n",
       "    .dataframe tbody tr th:only-of-type {\n",
       "        vertical-align: middle;\n",
       "    }\n",
       "\n",
       "    .dataframe tbody tr th {\n",
       "        vertical-align: top;\n",
       "    }\n",
       "\n",
       "    .dataframe thead th {\n",
       "        text-align: right;\n",
       "    }\n",
       "</style>\n",
       "<table border=\"1\" class=\"dataframe\">\n",
       "  <thead>\n",
       "    <tr style=\"text-align: right;\">\n",
       "      <th></th>\n",
       "      <th>STD_DD</th>\n",
       "      <th>GU_CD</th>\n",
       "      <th>DONG_CD</th>\n",
       "      <th>MCT_CAT_CD</th>\n",
       "      <th>SEX_CD</th>\n",
       "      <th>AGE_CD</th>\n",
       "      <th>USE_CNT</th>\n",
       "      <th>USE_AMT</th>\n",
       "      <th>day</th>\n",
       "      <th>month</th>\n",
       "      <th>season</th>\n",
       "      <th>use_per_cnt</th>\n",
       "      <th>use_per_cnt_log</th>\n",
       "      <th>market_name</th>\n",
       "      <th>week</th>\n",
       "      <th>day_label</th>\n",
       "      <th>flow</th>\n",
       "      <th>GUDONG</th>\n",
       "    </tr>\n",
       "  </thead>\n",
       "  <tbody>\n",
       "    <tr>\n",
       "      <th>0</th>\n",
       "      <td>20180401</td>\n",
       "      <td>110</td>\n",
       "      <td>515</td>\n",
       "      <td>21</td>\n",
       "      <td>F</td>\n",
       "      <td>30</td>\n",
       "      <td>4</td>\n",
       "      <td>180</td>\n",
       "      <td>1</td>\n",
       "      <td>4</td>\n",
       "      <td>1</td>\n",
       "      <td>45.000000</td>\n",
       "      <td>3.806662</td>\n",
       "      <td>레저업소</td>\n",
       "      <td>1</td>\n",
       "      <td>1</td>\n",
       "      <td>1356.080</td>\n",
       "      <td>1111051500</td>\n",
       "    </tr>\n",
       "    <tr>\n",
       "      <th>1</th>\n",
       "      <td>20180401</td>\n",
       "      <td>110</td>\n",
       "      <td>515</td>\n",
       "      <td>21</td>\n",
       "      <td>F</td>\n",
       "      <td>55</td>\n",
       "      <td>4</td>\n",
       "      <td>22</td>\n",
       "      <td>1</td>\n",
       "      <td>4</td>\n",
       "      <td>1</td>\n",
       "      <td>5.500000</td>\n",
       "      <td>1.704748</td>\n",
       "      <td>레저업소</td>\n",
       "      <td>1</td>\n",
       "      <td>1</td>\n",
       "      <td>1433.060</td>\n",
       "      <td>1111051500</td>\n",
       "    </tr>\n",
       "    <tr>\n",
       "      <th>2</th>\n",
       "      <td>20180401</td>\n",
       "      <td>110</td>\n",
       "      <td>515</td>\n",
       "      <td>21</td>\n",
       "      <td>M</td>\n",
       "      <td>20</td>\n",
       "      <td>35</td>\n",
       "      <td>184</td>\n",
       "      <td>1</td>\n",
       "      <td>4</td>\n",
       "      <td>1</td>\n",
       "      <td>5.257143</td>\n",
       "      <td>1.659588</td>\n",
       "      <td>레저업소</td>\n",
       "      <td>1</td>\n",
       "      <td>1</td>\n",
       "      <td>1112.772</td>\n",
       "      <td>1111051500</td>\n",
       "    </tr>\n",
       "    <tr>\n",
       "      <th>3</th>\n",
       "      <td>20180401</td>\n",
       "      <td>110</td>\n",
       "      <td>515</td>\n",
       "      <td>21</td>\n",
       "      <td>M</td>\n",
       "      <td>25</td>\n",
       "      <td>70</td>\n",
       "      <td>425</td>\n",
       "      <td>1</td>\n",
       "      <td>4</td>\n",
       "      <td>1</td>\n",
       "      <td>6.071429</td>\n",
       "      <td>1.803594</td>\n",
       "      <td>레저업소</td>\n",
       "      <td>1</td>\n",
       "      <td>1</td>\n",
       "      <td>1792.300</td>\n",
       "      <td>1111051500</td>\n",
       "    </tr>\n",
       "    <tr>\n",
       "      <th>4</th>\n",
       "      <td>20180401</td>\n",
       "      <td>110</td>\n",
       "      <td>515</td>\n",
       "      <td>21</td>\n",
       "      <td>M</td>\n",
       "      <td>30</td>\n",
       "      <td>18</td>\n",
       "      <td>82</td>\n",
       "      <td>1</td>\n",
       "      <td>4</td>\n",
       "      <td>1</td>\n",
       "      <td>4.555556</td>\n",
       "      <td>1.516347</td>\n",
       "      <td>레저업소</td>\n",
       "      <td>1</td>\n",
       "      <td>1</td>\n",
       "      <td>1936.100</td>\n",
       "      <td>1111051500</td>\n",
       "    </tr>\n",
       "  </tbody>\n",
       "</table>\n",
       "</div>"
      ],
      "text/plain": [
       "     STD_DD  GU_CD  DONG_CD  MCT_CAT_CD SEX_CD  AGE_CD  USE_CNT  USE_AMT  day  \\\n",
       "0  20180401    110      515          21      F      30        4      180    1   \n",
       "1  20180401    110      515          21      F      55        4       22    1   \n",
       "2  20180401    110      515          21      M      20       35      184    1   \n",
       "3  20180401    110      515          21      M      25       70      425    1   \n",
       "4  20180401    110      515          21      M      30       18       82    1   \n",
       "\n",
       "   month  season  use_per_cnt  use_per_cnt_log market_name  week  day_label  \\\n",
       "0      4       1    45.000000         3.806662        레저업소     1          1   \n",
       "1      4       1     5.500000         1.704748        레저업소     1          1   \n",
       "2      4       1     5.257143         1.659588        레저업소     1          1   \n",
       "3      4       1     6.071429         1.803594        레저업소     1          1   \n",
       "4      4       1     4.555556         1.516347        레저업소     1          1   \n",
       "\n",
       "       flow      GUDONG  \n",
       "0  1356.080  1111051500  \n",
       "1  1433.060  1111051500  \n",
       "2  1112.772  1111051500  \n",
       "3  1792.300  1111051500  \n",
       "4  1936.100  1111051500  "
      ]
     },
     "execution_count": 7,
     "metadata": {},
     "output_type": "execute_result"
    }
   ],
   "source": [
    "a=[str(i) for i in card_spend_copy.DONG_CD];\n",
    "b=[str(i) for i in card_spend_copy.GU_CD];\n",
    "GUDONG = [\"{}{}\".format(b_, a_) for a_, b_ in zip(a, b)]\n",
    "GUDONG = [ int('11'+i+'00') for i in GUDONG]\n",
    "card_spend_copy['GUDONG'] = GUDONG; card_spend_copy.head()"
   ]
  },
  {
   "cell_type": "code",
   "execution_count": 8,
   "metadata": {},
   "outputs": [],
   "source": [
    "card_spend_copy['flow_level'] = np.trunc(np.log(card_spend_copy.flow))\n",
    "card_spend_copy['flow_level'] = card_spend_copy.flow_level.astype('int64')"
   ]
  },
  {
   "cell_type": "code",
   "execution_count": 9,
   "metadata": {},
   "outputs": [],
   "source": [
    "market_name = dict({10:'숙박', 20:'레저용품',21: '레저업소', 22:'문화취미', 30:'가구', 31:'전기', \n",
    "                    32:'주방용구', 33:'연료판매', 34:'광학제품', 35: '가전', 40:'유통업',42: '의복',\n",
    "                    43: '작물', 44: '신변잡화', 50: '서적문구',52: '사무통신',60: '자동차판매',\n",
    "                    62: '자동차정비', 70:'의료기관', 71:'보건위생', 80:'요식업소', 81: '음료식품', \n",
    "                    92: '수리서비스'})"
   ]
  },
  {
   "cell_type": "code",
   "execution_count": 10,
   "metadata": {},
   "outputs": [],
   "source": [
    "market_names = list(market_name.values());\n",
    "market_index = list(market_name.keys());"
   ]
  },
  {
   "cell_type": "code",
   "execution_count": 11,
   "metadata": {},
   "outputs": [
    {
     "data": {
      "text/plain": [
       "array([20, 25, 30, 35, 40, 45, 50, 55, 60, 65], dtype=int64)"
      ]
     },
     "execution_count": 11,
     "metadata": {},
     "output_type": "execute_result"
    }
   ],
   "source": [
    "age_index = card_spend_copy.AGE_CD.unique()\n",
    "age_index.sort(); age_index"
   ]
  },
  {
   "cell_type": "code",
   "execution_count": 12,
   "metadata": {},
   "outputs": [],
   "source": [
    "sex_ = ['F', 'M']"
   ]
  },
  {
   "cell_type": "code",
   "execution_count": 13,
   "metadata": {},
   "outputs": [],
   "source": [
    "#read ordernumpy\n",
    "with open(\"ordernumpy.pickle\", \"rb\") as f : \n",
    "    onp = pickle.load(f)\n",
    "#read ddict    \n",
    "with open(\"ddict.pickle\", \"rb\") as f : \n",
    "    ddict = pickle.load(f)"
   ]
  },
  {
   "cell_type": "code",
   "execution_count": 14,
   "metadata": {},
   "outputs": [],
   "source": [
    "dates = list(ddict.keys())"
   ]
  },
  {
   "cell_type": "code",
   "execution_count": 15,
   "metadata": {},
   "outputs": [],
   "source": [
    "dates.sort()"
   ]
  },
  {
   "cell_type": "code",
   "execution_count": 16,
   "metadata": {},
   "outputs": [],
   "source": [
    "# Make Date to Index Dict \n",
    "date2idx = {j : i for i, j in enumerate(dates)}"
   ]
  },
  {
   "cell_type": "code",
   "execution_count": 17,
   "metadata": {},
   "outputs": [
    {
     "data": {
      "text/plain": [
       "364"
      ]
     },
     "execution_count": 17,
     "metadata": {},
     "output_type": "execute_result"
    }
   ],
   "source": [
    "date2idx[20190331]"
   ]
  },
  {
   "cell_type": "code",
   "execution_count": 18,
   "metadata": {},
   "outputs": [
    {
     "data": {
      "text/plain": [
       "array([10,  4,  7,  3,  8,  6,  1,  6,  3,  1,  9,  8, 10,  6,  6])"
      ]
     },
     "execution_count": 18,
     "metadata": {},
     "output_type": "execute_result"
    }
   ],
   "source": [
    "onp[0]"
   ]
  },
  {
   "cell_type": "code",
   "execution_count": 19,
   "metadata": {},
   "outputs": [],
   "source": [
    "def get_onp_row(date_int, i):\n",
    "    return onp[date2idx[date_int]][i]"
   ]
  },
  {
   "cell_type": "code",
   "execution_count": 20,
   "metadata": {},
   "outputs": [],
   "source": [
    "# Add ONP rows to corresponding STD_DD Dataframe \n",
    "for i in range(15) :\n",
    "    col_name = \"TD_{0}\".format(i)\n",
    "    card_spend_copy[col_name] = [get_onp_row(k, i) for k in card_spend_copy[\"STD_DD\"]]"
   ]
  },
  {
   "cell_type": "code",
   "execution_count": 21,
   "metadata": {},
   "outputs": [
    {
     "data": {
      "text/html": [
       "<div>\n",
       "<style scoped>\n",
       "    .dataframe tbody tr th:only-of-type {\n",
       "        vertical-align: middle;\n",
       "    }\n",
       "\n",
       "    .dataframe tbody tr th {\n",
       "        vertical-align: top;\n",
       "    }\n",
       "\n",
       "    .dataframe thead th {\n",
       "        text-align: right;\n",
       "    }\n",
       "</style>\n",
       "<table border=\"1\" class=\"dataframe\">\n",
       "  <thead>\n",
       "    <tr style=\"text-align: right;\">\n",
       "      <th></th>\n",
       "      <th>STD_DD</th>\n",
       "      <th>GU_CD</th>\n",
       "      <th>DONG_CD</th>\n",
       "      <th>MCT_CAT_CD</th>\n",
       "      <th>SEX_CD</th>\n",
       "      <th>AGE_CD</th>\n",
       "      <th>USE_CNT</th>\n",
       "      <th>USE_AMT</th>\n",
       "      <th>day</th>\n",
       "      <th>month</th>\n",
       "      <th>...</th>\n",
       "      <th>TD_5</th>\n",
       "      <th>TD_6</th>\n",
       "      <th>TD_7</th>\n",
       "      <th>TD_8</th>\n",
       "      <th>TD_9</th>\n",
       "      <th>TD_10</th>\n",
       "      <th>TD_11</th>\n",
       "      <th>TD_12</th>\n",
       "      <th>TD_13</th>\n",
       "      <th>TD_14</th>\n",
       "    </tr>\n",
       "  </thead>\n",
       "  <tbody>\n",
       "    <tr>\n",
       "      <th>0</th>\n",
       "      <td>20180401</td>\n",
       "      <td>110</td>\n",
       "      <td>515</td>\n",
       "      <td>21</td>\n",
       "      <td>F</td>\n",
       "      <td>30</td>\n",
       "      <td>4</td>\n",
       "      <td>180</td>\n",
       "      <td>1</td>\n",
       "      <td>4</td>\n",
       "      <td>...</td>\n",
       "      <td>6</td>\n",
       "      <td>1</td>\n",
       "      <td>6</td>\n",
       "      <td>3</td>\n",
       "      <td>1</td>\n",
       "      <td>9</td>\n",
       "      <td>8</td>\n",
       "      <td>10</td>\n",
       "      <td>6</td>\n",
       "      <td>6</td>\n",
       "    </tr>\n",
       "    <tr>\n",
       "      <th>1</th>\n",
       "      <td>20180401</td>\n",
       "      <td>110</td>\n",
       "      <td>515</td>\n",
       "      <td>21</td>\n",
       "      <td>F</td>\n",
       "      <td>55</td>\n",
       "      <td>4</td>\n",
       "      <td>22</td>\n",
       "      <td>1</td>\n",
       "      <td>4</td>\n",
       "      <td>...</td>\n",
       "      <td>6</td>\n",
       "      <td>1</td>\n",
       "      <td>6</td>\n",
       "      <td>3</td>\n",
       "      <td>1</td>\n",
       "      <td>9</td>\n",
       "      <td>8</td>\n",
       "      <td>10</td>\n",
       "      <td>6</td>\n",
       "      <td>6</td>\n",
       "    </tr>\n",
       "    <tr>\n",
       "      <th>2</th>\n",
       "      <td>20180401</td>\n",
       "      <td>110</td>\n",
       "      <td>515</td>\n",
       "      <td>21</td>\n",
       "      <td>M</td>\n",
       "      <td>20</td>\n",
       "      <td>35</td>\n",
       "      <td>184</td>\n",
       "      <td>1</td>\n",
       "      <td>4</td>\n",
       "      <td>...</td>\n",
       "      <td>6</td>\n",
       "      <td>1</td>\n",
       "      <td>6</td>\n",
       "      <td>3</td>\n",
       "      <td>1</td>\n",
       "      <td>9</td>\n",
       "      <td>8</td>\n",
       "      <td>10</td>\n",
       "      <td>6</td>\n",
       "      <td>6</td>\n",
       "    </tr>\n",
       "    <tr>\n",
       "      <th>3</th>\n",
       "      <td>20180401</td>\n",
       "      <td>110</td>\n",
       "      <td>515</td>\n",
       "      <td>21</td>\n",
       "      <td>M</td>\n",
       "      <td>25</td>\n",
       "      <td>70</td>\n",
       "      <td>425</td>\n",
       "      <td>1</td>\n",
       "      <td>4</td>\n",
       "      <td>...</td>\n",
       "      <td>6</td>\n",
       "      <td>1</td>\n",
       "      <td>6</td>\n",
       "      <td>3</td>\n",
       "      <td>1</td>\n",
       "      <td>9</td>\n",
       "      <td>8</td>\n",
       "      <td>10</td>\n",
       "      <td>6</td>\n",
       "      <td>6</td>\n",
       "    </tr>\n",
       "    <tr>\n",
       "      <th>4</th>\n",
       "      <td>20180401</td>\n",
       "      <td>110</td>\n",
       "      <td>515</td>\n",
       "      <td>21</td>\n",
       "      <td>M</td>\n",
       "      <td>30</td>\n",
       "      <td>18</td>\n",
       "      <td>82</td>\n",
       "      <td>1</td>\n",
       "      <td>4</td>\n",
       "      <td>...</td>\n",
       "      <td>6</td>\n",
       "      <td>1</td>\n",
       "      <td>6</td>\n",
       "      <td>3</td>\n",
       "      <td>1</td>\n",
       "      <td>9</td>\n",
       "      <td>8</td>\n",
       "      <td>10</td>\n",
       "      <td>6</td>\n",
       "      <td>6</td>\n",
       "    </tr>\n",
       "  </tbody>\n",
       "</table>\n",
       "<p>5 rows × 34 columns</p>\n",
       "</div>"
      ],
      "text/plain": [
       "     STD_DD  GU_CD  DONG_CD  MCT_CAT_CD SEX_CD  AGE_CD  USE_CNT  USE_AMT  day  \\\n",
       "0  20180401    110      515          21      F      30        4      180    1   \n",
       "1  20180401    110      515          21      F      55        4       22    1   \n",
       "2  20180401    110      515          21      M      20       35      184    1   \n",
       "3  20180401    110      515          21      M      25       70      425    1   \n",
       "4  20180401    110      515          21      M      30       18       82    1   \n",
       "\n",
       "   month  ...    TD_5  TD_6  TD_7 TD_8  TD_9  TD_10  TD_11  TD_12  TD_13  \\\n",
       "0      4  ...       6     1     6    3     1      9      8     10      6   \n",
       "1      4  ...       6     1     6    3     1      9      8     10      6   \n",
       "2      4  ...       6     1     6    3     1      9      8     10      6   \n",
       "3      4  ...       6     1     6    3     1      9      8     10      6   \n",
       "4      4  ...       6     1     6    3     1      9      8     10      6   \n",
       "\n",
       "   TD_14  \n",
       "0      6  \n",
       "1      6  \n",
       "2      6  \n",
       "3      6  \n",
       "4      6  \n",
       "\n",
       "[5 rows x 34 columns]"
      ]
     },
     "execution_count": 21,
     "metadata": {},
     "output_type": "execute_result"
    }
   ],
   "source": [
    "card_spend_copy.head()"
   ]
  },
  {
   "cell_type": "code",
   "execution_count": 22,
   "metadata": {},
   "outputs": [],
   "source": [
    "import datetime\n",
    "def get_date(integer) : \n",
    "    year = integer // 10**4\n",
    "    integer = integer % 10**4\n",
    "    month = integer // 10**2\n",
    "    day = integer % 10**2\n",
    "    return datetime.datetime(year, month, day)"
   ]
  },
  {
   "cell_type": "code",
   "execution_count": 23,
   "metadata": {},
   "outputs": [],
   "source": [
    "def deter_week(integer):\n",
    "    integer = get_date(integer).weekday()\n",
    "    if integer == 5 or integer == 6 : \n",
    "        return True\n",
    "    return False"
   ]
  },
  {
   "cell_type": "code",
   "execution_count": 24,
   "metadata": {},
   "outputs": [],
   "source": [
    "# Maks masks \n",
    "weekmask = card_spend_copy[\"STD_DD\"].map(deter_week) "
   ]
  },
  {
   "cell_type": "code",
   "execution_count": 25,
   "metadata": {},
   "outputs": [],
   "source": [
    "# Split \n",
    "weekdf, weekenddf = card_spend_copy[~weekmask], card_spend_copy[weekmask]"
   ]
  },
  {
   "cell_type": "code",
   "execution_count": 26,
   "metadata": {},
   "outputs": [
    {
     "data": {
      "text/plain": [
       "260"
      ]
     },
     "execution_count": 26,
     "metadata": {},
     "output_type": "execute_result"
    }
   ],
   "source": [
    "len(set(weekdf[\"STD_DD\"]))"
   ]
  },
  {
   "cell_type": "code",
   "execution_count": 27,
   "metadata": {},
   "outputs": [
    {
     "data": {
      "text/plain": [
       "105"
      ]
     },
     "execution_count": 27,
     "metadata": {},
     "output_type": "execute_result"
    }
   ],
   "source": [
    "len(set(weekenddf[\"STD_DD\"]))"
   ]
  },
  {
   "cell_type": "code",
   "execution_count": 28,
   "metadata": {},
   "outputs": [
    {
     "data": {
      "text/plain": [
       "260.7142857142857"
      ]
     },
     "execution_count": 28,
     "metadata": {},
     "output_type": "execute_result"
    }
   ],
   "source": [
    "365 / 7 * 5"
   ]
  },
  {
   "cell_type": "code",
   "execution_count": 29,
   "metadata": {},
   "outputs": [],
   "source": [
    "weekdf.to_csv(\"Week_Data.csv\", index = False)"
   ]
  },
  {
   "cell_type": "code",
   "execution_count": 30,
   "metadata": {},
   "outputs": [],
   "source": [
    "weekenddf.to_csv(\"WeekEnd_Data.csv\", index = False)"
   ]
  },
  {
   "cell_type": "code",
   "execution_count": null,
   "metadata": {},
   "outputs": [],
   "source": []
  }
 ],
 "metadata": {
  "kernelspec": {
   "display_name": "Python 3",
   "language": "python",
   "name": "python3"
  },
  "language_info": {
   "codemirror_mode": {
    "name": "ipython",
    "version": 3
   },
   "file_extension": ".py",
   "mimetype": "text/x-python",
   "name": "python",
   "nbconvert_exporter": "python",
   "pygments_lexer": "ipython3",
   "version": "3.7.1"
  }
 },
 "nbformat": 4,
 "nbformat_minor": 2
}
