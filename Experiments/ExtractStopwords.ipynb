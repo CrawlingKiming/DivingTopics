{
 "cells": [
  {
   "cell_type": "code",
   "execution_count": 1,
   "metadata": {},
   "outputs": [],
   "source": [
    "import numpy as np\n",
    "import pandas as pd\n",
    "import gensim\n",
    "import collections \n",
    "import time\n",
    "import random"
   ]
  },
  {
   "cell_type": "markdown",
   "metadata": {},
   "source": [
    "# 불용어 추출 \n",
    "\n",
    "불용어(Stopwords) 는 과하게 빈도수가 높아 자연어 처리에 도움을 주지 않는 문자들로, 이 code는 해당 stopwords를 추출하기 위함이다. \n",
    "\n",
    "Stopwords를 성능에 직접적으로 관여하는 요소는 아니다. \n",
    "그러나 최소한의 제거도 하지 않으면 Model 성능 저하 우려가 있다. "
   ]
  },
  {
   "cell_type": "code",
   "execution_count": 78,
   "metadata": {},
   "outputs": [],
   "source": [
    "from collections import defaultdict\n",
    "import re \n",
    "from eunjeon import Mecab\n",
    "\n",
    "stop_text = open(\"KoreanStopwords.txt\", \"r\", encoding = \"utf-8\")\n",
    "stop_list = []\n",
    "for line in stop_text :\n",
    "    line = line[:-1]\n",
    "    stop_list.append(line)\n",
    "stop_text.close()\n",
    "stop_list.extend([\"\\xa0\",\"\\u200b\"])"
   ]
  },
  {
   "cell_type": "code",
   "execution_count": 44,
   "metadata": {},
   "outputs": [],
   "source": [
    "komoran = Komoran()\n",
    "mecab = Mecab()"
   ]
  },
  {
   "cell_type": "code",
   "execution_count": 4,
   "metadata": {},
   "outputs": [],
   "source": [
    "flist = [\"processed_SNS_1.xlsx\",\"processed_SNS_2.xlsx\",\"processed_SNS_3.xlsx\",\"processed_SNS_4.xlsx\",\"processed_SNS_5.xlsx\", \"processed_SNS_6.xlsx\", \"processed_SNS_7.xlsx\", \"processed_SNS_8.xlsx\"]"
   ]
  },
  {
   "cell_type": "code",
   "execution_count": 5,
   "metadata": {},
   "outputs": [],
   "source": [
    "def sample_df(fname):\n",
    "    df = pd.read_excel(fname)\n",
    "    df_percent = df.sample(frac=0.08) #proportion of sampling \n",
    "    return df_percent"
   ]
  },
  {
   "cell_type": "code",
   "execution_count": 6,
   "metadata": {},
   "outputs": [],
   "source": [
    "#assign first sample dataframe \n",
    "collected_df = sample_df(flist[0]) "
   ]
  },
  {
   "cell_type": "code",
   "execution_count": 15,
   "metadata": {},
   "outputs": [
    {
     "name": "stdout",
     "output_type": "stream",
     "text": [
      "adj_SNS_2.xlsx is done.\n",
      "adj_SNS_3.xlsx is done.\n",
      "adj_SNS_4.xlsx is done.\n",
      "adj_SNS_5.xlsx is done.\n",
      "adj_SNS_6.xlsx is done.\n",
      "adj_SNS_7.xlsx is done.\n",
      "adj_SNS_8.xlsx is done.\n"
     ]
    }
   ],
   "source": [
    "for i in range(1, 8):\n",
    "    collected_df.append(sample_df(flist[i]),ignore_index = True)\n",
    "    print(\"{0} is done.\".format(flist[i]))"
   ]
  },
  {
   "cell_type": "code",
   "execution_count": 16,
   "metadata": {
    "scrolled": true
   },
   "outputs": [
    {
     "data": {
      "text/html": [
       "<div>\n",
       "<style scoped>\n",
       "    .dataframe tbody tr th:only-of-type {\n",
       "        vertical-align: middle;\n",
       "    }\n",
       "\n",
       "    .dataframe tbody tr th {\n",
       "        vertical-align: top;\n",
       "    }\n",
       "\n",
       "    .dataframe thead th {\n",
       "        text-align: right;\n",
       "    }\n",
       "</style>\n",
       "<table border=\"1\" class=\"dataframe\">\n",
       "  <thead>\n",
       "    <tr style=\"text-align: right;\">\n",
       "      <th></th>\n",
       "      <th>DOCID</th>\n",
       "      <th>SECTION</th>\n",
       "      <th>DATE</th>\n",
       "      <th>TITLE</th>\n",
       "      <th>CONTENT</th>\n",
       "    </tr>\n",
       "  </thead>\n",
       "  <tbody>\n",
       "    <tr>\n",
       "      <th>38243</th>\n",
       "      <td>204053341</td>\n",
       "      <td>블로그</td>\n",
       "      <td>20180504</td>\n",
       "      <td>여드름압출 흉터 남기지않고 치료하기 1만원으로 로하셀에서 가능 야간진료까지 HSA</td>\n",
       "      <td>한방다이어트 여드름압출 흉터 남기지않고 치료하기 1만원으로 로하셀에서 가능 야간진료...</td>\n",
       "    </tr>\n",
       "    <tr>\n",
       "      <th>769</th>\n",
       "      <td>204116779</td>\n",
       "      <td>블로그</td>\n",
       "      <td>20180719</td>\n",
       "      <td>6월</td>\n",
       "      <td>엄마의 시간 6월 야옹이  2018 7 19 2353 URL 복사 이웃추가 본문 기...</td>\n",
       "    </tr>\n",
       "    <tr>\n",
       "      <th>51558</th>\n",
       "      <td>204098028</td>\n",
       "      <td>블로그</td>\n",
       "      <td>20180715</td>\n",
       "      <td>핀덴스킨베베 아기선크림과 바디워시 넘나 만족스럽네요</td>\n",
       "      <td>초보맘♡ 핀덴스킨베베 아기선크림과 바디워시 넘나 만족스럽네요 각설탕  2018 7 ...</td>\n",
       "    </tr>\n",
       "    <tr>\n",
       "      <th>104694</th>\n",
       "      <td>204037673</td>\n",
       "      <td>블로그</td>\n",
       "      <td>20180525</td>\n",
       "      <td>미세먼지 창문필터 실사용후기</td>\n",
       "      <td>생활꿀팁 미세먼지 창문필터 실사용후기 aa044  2018 5 25 2321 URL...</td>\n",
       "    </tr>\n",
       "    <tr>\n",
       "      <th>88010</th>\n",
       "      <td>204042772</td>\n",
       "      <td>블로그</td>\n",
       "      <td>20180505</td>\n",
       "      <td>시카 피니쉬 크림 극심한 민감함을 잠재우는 시카고 끝장크림</td>\n",
       "      <td>코스메틱메이크업 시카 피니쉬 크림 극심한 민감함을 잠재우는 시카고 끝장크림 소달  ...</td>\n",
       "    </tr>\n",
       "  </tbody>\n",
       "</table>\n",
       "</div>"
      ],
      "text/plain": [
       "            DOCID SECTION      DATE  \\\n",
       "38243   204053341     블로그  20180504   \n",
       "769     204116779     블로그  20180719   \n",
       "51558   204098028     블로그  20180715   \n",
       "104694  204037673     블로그  20180525   \n",
       "88010   204042772     블로그  20180505   \n",
       "\n",
       "                                                 TITLE  \\\n",
       "38243   여드름압출 흉터 남기지않고 치료하기 1만원으로 로하셀에서 가능 야간진료까지 HSA    \n",
       "769                                                 6월   \n",
       "51558                     핀덴스킨베베 아기선크림과 바디워시 넘나 만족스럽네요   \n",
       "104694                                 미세먼지 창문필터 실사용후기   \n",
       "88010                 시카 피니쉬 크림 극심한 민감함을 잠재우는 시카고 끝장크림   \n",
       "\n",
       "                                                  CONTENT  \n",
       "38243   한방다이어트 여드름압출 흉터 남기지않고 치료하기 1만원으로 로하셀에서 가능 야간진료...  \n",
       "769     엄마의 시간 6월 야옹이  2018 7 19 2353 URL 복사 이웃추가 본문 기...  \n",
       "51558   초보맘♡ 핀덴스킨베베 아기선크림과 바디워시 넘나 만족스럽네요 각설탕  2018 7 ...  \n",
       "104694  생활꿀팁 미세먼지 창문필터 실사용후기 aa044  2018 5 25 2321 URL...  \n",
       "88010   코스메틱메이크업 시카 피니쉬 크림 극심한 민감함을 잠재우는 시카고 끝장크림 소달  ...  "
      ]
     },
     "execution_count": 16,
     "metadata": {},
     "output_type": "execute_result"
    }
   ],
   "source": [
    "collected_df.head()"
   ]
  },
  {
   "cell_type": "code",
   "execution_count": 17,
   "metadata": {},
   "outputs": [
    {
     "data": {
      "text/plain": [
       "(9824, 5)"
      ]
     },
     "execution_count": 17,
     "metadata": {},
     "output_type": "execute_result"
    }
   ],
   "source": [
    "collected_df.shape"
   ]
  },
  {
   "cell_type": "code",
   "execution_count": 19,
   "metadata": {},
   "outputs": [],
   "source": [
    "collected_df.to_excel(\"Sampled dataframe.xlsx\", index = False, engine = \"xlsxwriter\")"
   ]
  },
  {
   "cell_type": "code",
   "execution_count": 80,
   "metadata": {},
   "outputs": [],
   "source": [
    "def doc_processing(i):\n",
    "    startTime = time.time()\n",
    "    print(startTime)\n",
    "    data = pd.read_excel(i)\n",
    "    processed_docs = data['CONTENT'].map(pre_processing)\n",
    "    TrueEnd = time.time()- startTime\n",
    "    print(TrueEnd)\n",
    "    return processed_docs"
   ]
  },
  {
   "cell_type": "code",
   "execution_count": 81,
   "metadata": {},
   "outputs": [],
   "source": [
    "i = 0\n",
    "j = 0\n",
    "def adjust(df):\n",
    "    df = df.drop([\"DOCID\",\"TITLE\"], axis = 1 ) \n",
    "    df[\"DATE\"] = df[\"DATE\"] // 10**6\n",
    "    return df\n",
    "\n",
    "def tokenizing(text):\n",
    "    global i \n",
    "    global j\n",
    "    i += 1 \n",
    "    if i % 100 == 0 :\n",
    "        print(\"{0}th iteration, time {1}\".format(i, time.time()))\n",
    "    #returns 형태소, exclude surplus tags.\n",
    "    try:\n",
    "        text = str(text)\n",
    "        text = delet_re.sub('', text)\n",
    "        tok = mecab.morphs(text)\n",
    "        \n",
    "    except UnicodeDecodeError:\n",
    "        j += 1 \n",
    "        print(\"{0}th text had been dumped..\".format(j))\n",
    "        return []\n",
    "   \n",
    "    return tok\n",
    "    \n",
    "\n",
    "def pre_processing(text) :\n",
    "    result = []\n",
    "        \n",
    "    for token in tokenizing(text):\n",
    "        if token not in stop_list :\n",
    "            result.append(token)\n",
    "        \n",
    "    return result"
   ]
  },
  {
   "cell_type": "code",
   "execution_count": 82,
   "metadata": {},
   "outputs": [],
   "source": [
    "delet_re = re.compile(r'[:/(){}\\[\\]\\|@,;\\\\]+\\w+|[:/(){}\\[\\]\\|@,;\\\\]+|[0-9]+')"
   ]
  },
  {
   "cell_type": "code",
   "execution_count": 83,
   "metadata": {},
   "outputs": [
    {
     "name": "stdout",
     "output_type": "stream",
     "text": [
      "1566793449.9999788\n",
      "100th iteration, time 1566793451.8450017\n",
      "200th iteration, time 1566793452.354002\n",
      "300th iteration, time 1566793452.849977\n",
      "400th iteration, time 1566793453.4029746\n",
      "500th iteration, time 1566793454.0340042\n",
      "600th iteration, time 1566793454.6809778\n",
      "700th iteration, time 1566793455.2870018\n",
      "800th iteration, time 1566793455.8300025\n",
      "900th iteration, time 1566793456.4409778\n",
      "1000th iteration, time 1566793456.9989789\n",
      "1100th iteration, time 1566793457.6100018\n",
      "1200th iteration, time 1566793458.1999745\n",
      "1300th iteration, time 1566793458.7139747\n",
      "1400th iteration, time 1566793459.263975\n",
      "1500th iteration, time 1566793459.8099747\n",
      "1600th iteration, time 1566793460.394977\n",
      "1700th iteration, time 1566793461.0039773\n",
      "1800th iteration, time 1566793461.5679746\n",
      "1900th iteration, time 1566793462.1969745\n",
      "2000th iteration, time 1566793462.7989771\n",
      "2100th iteration, time 1566793463.481977\n",
      "2200th iteration, time 1566793464.065977\n",
      "2300th iteration, time 1566793464.8039777\n",
      "2400th iteration, time 1566793465.325978\n",
      "2500th iteration, time 1566793466.0439808\n",
      "2600th iteration, time 1566793466.5429747\n",
      "2700th iteration, time 1566793467.181977\n",
      "2800th iteration, time 1566793467.8259747\n",
      "2900th iteration, time 1566793468.5490022\n",
      "3000th iteration, time 1566793469.1059747\n",
      "3100th iteration, time 1566793469.704975\n",
      "3200th iteration, time 1566793470.267977\n",
      "3300th iteration, time 1566793470.829977\n",
      "3400th iteration, time 1566793471.345975\n",
      "3500th iteration, time 1566793471.951977\n",
      "3600th iteration, time 1566793472.5060043\n",
      "3700th iteration, time 1566793473.096978\n",
      "3800th iteration, time 1566793473.645002\n",
      "3900th iteration, time 1566793474.2169766\n",
      "4000th iteration, time 1566793474.7439773\n",
      "4100th iteration, time 1566793475.2889745\n",
      "4200th iteration, time 1566793475.865975\n",
      "4300th iteration, time 1566793476.4279773\n",
      "4400th iteration, time 1566793477.0659745\n",
      "4500th iteration, time 1566793477.6589746\n",
      "4600th iteration, time 1566793478.233977\n",
      "4700th iteration, time 1566793478.8469777\n",
      "4800th iteration, time 1566793479.3799746\n",
      "4900th iteration, time 1566793480.052975\n",
      "5000th iteration, time 1566793480.7329748\n",
      "5100th iteration, time 1566793481.3399775\n",
      "5200th iteration, time 1566793481.973003\n",
      "5300th iteration, time 1566793482.5860102\n",
      "5400th iteration, time 1566793483.2509773\n",
      "5500th iteration, time 1566793483.737977\n",
      "5600th iteration, time 1566793484.4659746\n",
      "5700th iteration, time 1566793484.992003\n",
      "5800th iteration, time 1566793485.5619748\n",
      "5900th iteration, time 1566793486.1809769\n",
      "6000th iteration, time 1566793486.846977\n",
      "6100th iteration, time 1566793487.5099769\n",
      "6200th iteration, time 1566793488.1040037\n",
      "6300th iteration, time 1566793488.6880019\n",
      "6400th iteration, time 1566793489.173978\n",
      "6500th iteration, time 1566793489.780975\n",
      "6600th iteration, time 1566793490.381977\n",
      "6700th iteration, time 1566793490.951977\n",
      "6800th iteration, time 1566793491.600975\n",
      "6900th iteration, time 1566793492.2459748\n",
      "7000th iteration, time 1566793492.753977\n",
      "7100th iteration, time 1566793493.2949774\n",
      "7200th iteration, time 1566793493.8179767\n",
      "7300th iteration, time 1566793494.4030035\n",
      "7400th iteration, time 1566793494.9120028\n",
      "7500th iteration, time 1566793495.6609743\n",
      "7600th iteration, time 1566793496.3920054\n",
      "7700th iteration, time 1566793496.9249773\n",
      "7800th iteration, time 1566793497.4319804\n",
      "7900th iteration, time 1566793497.9819775\n",
      "8000th iteration, time 1566793498.5709748\n",
      "8100th iteration, time 1566793499.2009747\n",
      "8200th iteration, time 1566793499.884975\n",
      "8300th iteration, time 1566793500.4179761\n",
      "8400th iteration, time 1566793501.0039747\n",
      "8500th iteration, time 1566793501.5609744\n",
      "8600th iteration, time 1566793502.093977\n",
      "8700th iteration, time 1566793502.7169745\n",
      "8800th iteration, time 1566793503.3959756\n",
      "8900th iteration, time 1566793504.155978\n",
      "9000th iteration, time 1566793504.6619756\n",
      "9100th iteration, time 1566793505.2969751\n",
      "9200th iteration, time 1566793505.8799746\n",
      "9300th iteration, time 1566793506.418977\n",
      "9400th iteration, time 1566793507.0669768\n",
      "9500th iteration, time 1566793507.6099753\n",
      "9600th iteration, time 1566793508.1539748\n",
      "9700th iteration, time 1566793508.8359756\n",
      "9800th iteration, time 1566793509.4359758\n",
      "59.58899760246277\n"
     ]
    }
   ],
   "source": [
    "result = doc_processing(\"Sampled dataframe.xlsx\")"
   ]
  },
  {
   "cell_type": "code",
   "execution_count": 84,
   "metadata": {},
   "outputs": [],
   "source": [
    "collected_list = []\n",
    "for i in result :\n",
    "    collected_list.extend(i)"
   ]
  },
  {
   "cell_type": "code",
   "execution_count": 85,
   "metadata": {},
   "outputs": [],
   "source": [
    "collected_dict = collections.Counter(collected_list)"
   ]
  },
  {
   "cell_type": "code",
   "execution_count": 86,
   "metadata": {},
   "outputs": [],
   "source": [
    "top_nlist = collected_dict.most_common(100)"
   ]
  },
  {
   "cell_type": "code",
   "execution_count": 87,
   "metadata": {},
   "outputs": [
    {
     "name": "stdout",
     "output_type": "stream",
     "text": [
      "[('는', 177893), ('고', 102720), ('은', 86623), ('있', 77033), ('도', 68771), ('한', 63558), ('기', 54724), ('게', 47593), ('보', 34315), ('지', 32753), ('좋', 30649), ('수', 29557), ('되', 29440), ('해', 28364), ('주', 25340), ('면', 25001), ('었', 23359), ('어요', 20958), ('시', 20193), ('인', 20077), ('했', 19859), ('만', 19583), ('할', 19127), ('는데', 18203), ('적', 17371), ('없', 16748), ('먹', 16204), ('않', 16197), ('대', 16122), ('피부', 15542), ('같', 14955), ('곳', 14005), ('미세먼지', 13970), ('잘', 13962), ('안', 13275), ('니', 12866), ('성', 12839), ('ㅋㅋㅋ', 12747), ('입니다', 12565), ('더', 12528), ('사용', 12309), ('많', 12172), ('던', 11032), ('겠', 10834), ('거', 10751), ('합니다', 10663), ('내', 10642), ('았', 10622), ('ㅋㅋ', 10601), ('서', 10465), ('먼지', 10463), ('라', 10299), ('분', 10290), ('제품', 10064), ('살', 9976), ('역', 9429), ('추가', 9377), ('중', 9229), ('어서', 9171), ('네요', 9024), ('원', 8950), ('공기', 8803), ('이웃', 8584), ('너무', 8548), ('눈', 8501), ('미세', 8365), ('집', 8242), ('차', 8213), ('번역', 8098), ('해서', 8044), ('관리', 7768), ('며', 7733), ('싶', 7656), ('날', 7626), ('세요', 7603), ('받', 7561), ('후', 7499), ('번', 7465), ('면서', 7459), ('죠', 7445), ('된', 7344), ('때문', 7328), ('다고', 7302), ('많이', 7185), ('전', 7153), ('사진', 7054), ('생각', 6985), ('님', 6797), ('오늘', 6746), ('요', 6620), ('정말', 6609), ('볼', 6478), ('라고', 6471), ('말', 6437), ('아요', 6415), ('만들', 6342), ('가능', 6312), ('보다', 6295), ('약', 6205), ('법', 6032)]\n"
     ]
    }
   ],
   "source": [
    "print(top_nlist)"
   ]
  }
 ],
 "metadata": {
  "kernelspec": {
   "display_name": "Python 3",
   "language": "python",
   "name": "python3"
  },
  "language_info": {
   "codemirror_mode": {
    "name": "ipython",
    "version": 3
   },
   "file_extension": ".py",
   "mimetype": "text/x-python",
   "name": "python",
   "nbconvert_exporter": "python",
   "pygments_lexer": "ipython3",
   "version": "3.7.1"
  }
 },
 "nbformat": 4,
 "nbformat_minor": 2
}
